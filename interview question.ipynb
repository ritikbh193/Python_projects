{
 "cells": [
  {
   "cell_type": "code",
   "execution_count": 3,
   "id": "898cbe86",
   "metadata": {},
   "outputs": [],
   "source": [
    "# import requests\n",
    "# import numpy as np\n",
    "\n",
    "# !pip install opencv-python\n",
    "# !pip install jupyterlab-lsp\n",
    "\n",
    "# !pip install pandas\n",
    "import pandas as pd\n",
    "import numpy as np\n",
    "# pd.read_csv()"
   ]
  },
  {
   "cell_type": "code",
   "execution_count": null,
   "id": "629ffa90-a2b1-4068-b2e7-ec7fe3a0ecdc",
   "metadata": {},
   "outputs": [],
   "source": []
  },
  {
   "cell_type": "code",
   "execution_count": null,
   "id": "4a57f332",
   "metadata": {},
   "outputs": [],
   "source": [
    "stream=\"https://db.magnifi.ai/videos?filters={%22category%22:[],%22sortBy%22:{%22_id%22:-1},%22activePage%22:1,%22userId%22:%22WzLdx1SU6%22,%22streamSearchText%22:%22%22,%22limit%22:20,%22userName%22:%22%22,%22status%22:%221%22,%22duration%22:[],%22workSpaces%22:%22self%22,%22aspectRatio%22:%22%22,%22channels%22:[],%22showTypes%22:[],%22categorySelections%22:{}}\""
   ]
  },
  {
   "cell_type": "code",
   "execution_count": null,
   "id": "9ad4b869",
   "metadata": {},
   "outputs": [],
   "source": [
    "response=requests.get(stream)\n",
    "js=response.json()"
   ]
  },
  {
   "cell_type": "code",
   "execution_count": null,
   "id": "2dddf571",
   "metadata": {},
   "outputs": [],
   "source": [
    "urls=\"https://dbai.magnifi.ai/get/clips/{XRtcsFdMj}?limit=1000&pageNo=1&filters={{\\\"players\\\":[],\\\"WKT\\\":[],\\\"sortBy\\\":\\\"TIME_DESCENDANT\\\",\\\"aspectRatio\\\":\\\"\\\",\\\"playBackSpeed\\\":[],\\\"webhookPublish\\\":\\\"\\\",\\\"clipData\\\":{{}}}}&daterange=[]&sort={{\\\"start_time\\\":-1,\\\"_id\\\":1}}&type=all&search=&aspectRatio=&webhookPublish=&isManualUpload=false&skipCount=\""
   ]
  },
  {
   "cell_type": "code",
   "execution_count": null,
   "id": "b66e1cdd",
   "metadata": {},
   "outputs": [],
   "source": [
    "resp=requests.get(urls)\n",
    "jsin=resp.json()\n",
    "jsin.get(\"clips\",[])"
   ]
  },
  {
   "cell_type": "code",
   "execution_count": 4,
   "id": "73f95c38",
   "metadata": {},
   "outputs": [
    {
     "ename": "ModuleNotFoundError",
     "evalue": "No module named 'cv2'",
     "output_type": "error",
     "traceback": [
      "\u001b[31m---------------------------------------------------------------------------\u001b[39m",
      "\u001b[31mModuleNotFoundError\u001b[39m                       Traceback (most recent call last)",
      "\u001b[36mCell\u001b[39m\u001b[36m \u001b[39m\u001b[32mIn[4]\u001b[39m\u001b[32m, line 1\u001b[39m\n\u001b[32m----> \u001b[39m\u001b[32m1\u001b[39m \u001b[38;5;28;01mimport\u001b[39;00m\u001b[38;5;250m \u001b[39m\u001b[34;01mcv2\u001b[39;00m\n\u001b[32m      3\u001b[39m \u001b[38;5;66;03m# Load image\u001b[39;00m\n\u001b[32m      4\u001b[39m img = cv2.imread(\u001b[33m'\u001b[39m\u001b[33m/home/link-lap-24/mpv-shot0002.jpg\u001b[39m\u001b[33m'\u001b[39m) \n",
      "\u001b[31mModuleNotFoundError\u001b[39m: No module named 'cv2'"
     ]
    }
   ],
   "source": [
    "import cv2\n",
    "\n",
    "# Load image\n",
    "img = cv2.imread('/home/link-lap-24/mpv-shot0002.jpg') \n",
    "\n",
    "# Convert to grayscale\n",
    "gray = cv2.cvtColor(img, cv2.COLOR_BGR2GRAY)\n",
    "\n",
    "# Apply thresholding to highlight arrow sign\n",
    "_, thresh = cv2.threshold(gray, 150, 255, cv2.THRESH_BINARY)\n",
    "\n",
    "# Save the thresholded image to the local disk\n",
    "cv2.imwrite('/home/link-lap-24/kdk_thresholded.jpg', thresh)\n",
    "\n",
    "# Display the result\n",
    "cv2.imshow('Thresholded Image', thresh)\n",
    "cv2.waitKey(0)\n",
    "cv2.destroyAllWindows()\n"
   ]
  },
  {
   "cell_type": "code",
   "execution_count": 6,
   "id": "7b142edc",
   "metadata": {},
   "outputs": [],
   "source": [
    "# Load the template image (arrow sign)\n",
    "template = cv2.imread('/home/link-lap-24/kdk_thresholded.jpg', 0)\n",
    "\n",
    "# Match template\n",
    "res = cv2.matchTemplate(thresh, template, cv2.TM_CCOEFF_NORMED)\n",
    "threshold = 0.8\n",
    "loc = np.where(res >= threshold)\n",
    "\n",
    "# Draw rectangle around detected arrow\n",
    "for pt in zip(*loc[::-1]):\n",
    "    cv2.rectangle(img, pt, (pt[0] + template.shape[1], pt[1] + template.shape[0]), (0, 255, 0), 2)\n",
    "\n",
    "# Show result\n",
    "cv2.imshow('Detected Arrow', img)\n",
    "cv2.waitKey(0)\n",
    "cv2.destroyAllWindows()\n"
   ]
  },
  {
   "cell_type": "code",
   "execution_count": 5,
   "id": "d5ae8ddd",
   "metadata": {},
   "outputs": [
    {
     "name": "stdout",
     "output_type": "stream",
     "text": [
      "Extracted Text:\n",
      " \n",
      "\f",
      "\n",
      "\n"
     ]
    }
   ],
   "source": [
    "import cv2\n",
    "import pytesseract\n",
    "\n",
    "# Load the image\n",
    "image_path = '/home/link-lap-24/mpv-shot0010.jpg'\n",
    "image = cv2.imread(image_path)\n",
    "\n",
    "# Convert the image to grayscale for better OCR results\n",
    "gray_image = cv2.cvtColor(image, cv2.COLOR_BGR2GRAY)\n",
    "\n",
    "# Use pytesseract to extract text from the image\n",
    "text = pytesseract.image_to_string(gray_image)\n",
    "\n",
    "# Display the extracted text\n",
    "print(\"Extracted Text:\")\n",
    "print(text)\n",
    "\n",
    "# Parse the text to find striker and non-striker information\n",
    "# In your example, striker name appears next to the pen icon and non-striker after that\n",
    "# Modify this logic depending on the text format and keywords extracted\n",
    "\n",
    "# Example logic based on pattern matching\n",
    "lines = text.split('\\n')\n",
    "for line in lines:\n",
    "    if 'Rogers' in line:  # Replace with the actual striker name keyword\n",
    "        print(\"Striker: Rogers\")\n",
    "    if 'Evison' in line:  # Replace with the actual non-striker name keyword\n",
    "        print(\"Non-striker: Evison\")\n"
   ]
  },
  {
   "cell_type": "code",
   "execution_count": 8,
   "id": "9a62e1d9",
   "metadata": {},
   "outputs": [
    {
     "name": "stdout",
     "output_type": "stream",
     "text": [
      "30\n",
      "40\n",
      "50\n"
     ]
    }
   ],
   "source": [
    "a = [10, 20, 30, 40, 50]\n",
    "\n",
    "for i in a :\n",
    "    if i >20:\n",
    "        print(i)"
   ]
  },
  {
   "cell_type": "code",
   "execution_count": 23,
   "id": "04fb05b2",
   "metadata": {},
   "outputs": [
    {
     "data": {
      "text/plain": [
       "[10, 20, 40]"
      ]
     },
     "execution_count": 23,
     "metadata": {},
     "output_type": "execute_result"
    }
   ],
   "source": [
    "# Access List Item\n",
    "a[:3]"
   ]
  },
  {
   "cell_type": "code",
   "execution_count": 24,
   "id": "8b0b72c4",
   "metadata": {},
   "outputs": [],
   "source": [
    "# Replace Values in a List in Python?\n",
    "a[2]=100"
   ]
  },
  {
   "cell_type": "code",
   "execution_count": 11,
   "id": "621f863c",
   "metadata": {},
   "outputs": [
    {
     "name": "stdout",
     "output_type": "stream",
     "text": [
      "[10, 20, 100, 40, 50]\n"
     ]
    }
   ],
   "source": [
    "print(a)"
   ]
  },
  {
   "cell_type": "code",
   "execution_count": 14,
   "id": "cdf9dc14",
   "metadata": {},
   "outputs": [],
   "source": [
    "a[1:2] = [44,96]"
   ]
  },
  {
   "cell_type": "code",
   "execution_count": 15,
   "id": "c2ede188",
   "metadata": {},
   "outputs": [
    {
     "name": "stdout",
     "output_type": "stream",
     "text": [
      "[10, 44, 96, 96, 50]\n"
     ]
    }
   ],
   "source": [
    "print(a)"
   ]
  },
  {
   "cell_type": "code",
   "execution_count": 16,
   "id": "b0e89c86",
   "metadata": {},
   "outputs": [
    {
     "data": {
      "text/plain": [
       "[11, 21, 31, 41, 51]"
      ]
     },
     "execution_count": 16,
     "metadata": {},
     "output_type": "execute_result"
    }
   ],
   "source": [
    "a = [10, 20, 30, 40, 50]\n",
    "\n",
    "df = list(map(lambda x: x + 1 ,a))\n",
    "df"
   ]
  },
  {
   "cell_type": "code",
   "execution_count": 22,
   "id": "1d7b30b7",
   "metadata": {},
   "outputs": [
    {
     "name": "stdout",
     "output_type": "stream",
     "text": [
      "[10, 20, 40, 50]\n"
     ]
    }
   ],
   "source": [
    "# How to Remove Item from a List in Python\n",
    "a = [10, 20, 30, 40, 50]\n",
    "a.remove(30)\n",
    "print(a)"
   ]
  },
  {
   "cell_type": "code",
   "execution_count": 26,
   "id": "e737926a",
   "metadata": {},
   "outputs": [
    {
     "name": "stdout",
     "output_type": "stream",
     "text": [
      "[10, 20, 30, 40, 50, 99]\n"
     ]
    }
   ],
   "source": [
    "# List append() Method\n",
    "a = [10, 20, 30, 40, 50]\n",
    "a.append(99)\n",
    "print(a)"
   ]
  },
  {
   "cell_type": "code",
   "execution_count": 29,
   "id": "92790abc",
   "metadata": {},
   "outputs": [
    {
     "name": "stdout",
     "output_type": "stream",
     "text": [
      "['tushar', 'mukesh', 'ritik', 'lata']\n"
     ]
    }
   ],
   "source": [
    "# List insert() method inserts an item at a specific index in a lisappendt.\n",
    "fruit = [\"tushar\",\"ritik\",\"lata\"]\n",
    "fruit.insert(1,\"mukesh\")\n",
    "print(fruit)"
   ]
  },
  {
   "cell_type": "code",
   "execution_count": 30,
   "id": "76eb20d3",
   "metadata": {},
   "outputs": [
    {
     "data": {
      "text/plain": [
       "[50, 40, 30, 20, 10]"
      ]
     },
     "execution_count": 30,
     "metadata": {},
     "output_type": "execute_result"
    }
   ],
   "source": [
    "#reverse a list\n",
    "a = [10, 20, 30, 40, 50]\n",
    "a[:: -1]"
   ]
  },
  {
   "cell_type": "code",
   "execution_count": 33,
   "id": "175be4f4",
   "metadata": {},
   "outputs": [
    {
     "data": {
      "text/plain": [
       "[1, 2, 3, [5, 6, 'tushar']]"
      ]
     },
     "execution_count": 33,
     "metadata": {},
     "output_type": "execute_result"
    }
   ],
   "source": [
    "# Appending List to a List\n",
    "# When appending one list to another, the entire list is added as a single element, creating a nested list.\n",
    "\n",
    "a = [1,2,3]\n",
    "\n",
    "a.append([5,6,\"tushar\"])\n",
    "a"
   ]
  },
  {
   "cell_type": "code",
   "execution_count": 39,
   "id": "99b1921d",
   "metadata": {},
   "outputs": [
    {
     "name": "stdout",
     "output_type": "stream",
     "text": [
      "[1, 2, 3, 4, 5, 6]\n"
     ]
    }
   ],
   "source": [
    "# Extending a list in Python\n",
    "a = [1,2,3]\n",
    "b = [4,5,6]\n",
    "\n",
    "# a.extend(b)\n",
    "\n",
    "a += b\n",
    "print(a)\n",
    "\n"
   ]
  },
  {
   "cell_type": "code",
   "execution_count": 45,
   "id": "13e7e7f4",
   "metadata": {},
   "outputs": [
    {
     "data": {
      "text/plain": [
       "[1, 2, 3, 4]"
      ]
     },
     "execution_count": 45,
     "metadata": {},
     "output_type": "execute_result"
    }
   ],
   "source": [
    "c =[1, 2, 3, 4, 5, 6]\n",
    "\n",
    "c[:4]"
   ]
  },
  {
   "cell_type": "code",
   "execution_count": 46,
   "id": "095e05fd",
   "metadata": {},
   "outputs": [
    {
     "data": {
      "text/plain": [
       "[5, 6]"
      ]
     },
     "execution_count": 46,
     "metadata": {},
     "output_type": "execute_result"
    }
   ],
   "source": [
    "c =[1, 2, 3, 4, 5, 6]\n",
    "\n",
    "c[4:]"
   ]
  },
  {
   "cell_type": "code",
   "execution_count": 48,
   "id": "981f7c84",
   "metadata": {},
   "outputs": [
    {
     "name": "stdout",
     "output_type": "stream",
     "text": [
      "10\n"
     ]
    }
   ],
   "source": [
    "a = 5\n",
    "b = 10\n",
    "\n",
    "c=max(a,b)\n",
    "print(c)"
   ]
  },
  {
   "cell_type": "code",
   "execution_count": 49,
   "id": "4e2914aa",
   "metadata": {},
   "outputs": [
    {
     "data": {
      "text/plain": [
       "6"
      ]
     },
     "execution_count": 49,
     "metadata": {},
     "output_type": "execute_result"
    }
   ],
   "source": [
    "# How To Find the Length of a List in Python\n",
    "c =[1, 2, 3, 4, 5, 6]\n",
    "len(c)"
   ]
  },
  {
   "cell_type": "code",
   "execution_count": 53,
   "id": "c59cea11",
   "metadata": {},
   "outputs": [
    {
     "name": "stdout",
     "output_type": "stream",
     "text": [
      "6\n"
     ]
    }
   ],
   "source": [
    "# Using loop (Naive method)\n",
    "\n",
    "c =[1, 2, 3, 4, 5, 6]\n",
    "\n",
    "counter = 0\n",
    "for i in c:\n",
    "    counter +=1\n",
    "print(counter)"
   ]
  },
  {
   "cell_type": "code",
   "execution_count": 55,
   "id": "bead2965",
   "metadata": {},
   "outputs": [
    {
     "name": "stdout",
     "output_type": "stream",
     "text": [
      "5\n"
     ]
    }
   ],
   "source": [
    "# Minimum of two numbers in Python\n",
    "a = 5\n",
    "b = 10\n",
    "\n",
    "print(min(a,b))"
   ]
  },
  {
   "cell_type": "code",
   "execution_count": 57,
   "id": "f9211ec1",
   "metadata": {},
   "outputs": [
    {
     "name": "stdout",
     "output_type": "stream",
     "text": [
      "5\n"
     ]
    }
   ],
   "source": [
    "a = 5\n",
    "b = 10\n",
    "\n",
    "if a < b:\n",
    "    print(a)\n",
    "else:\n",
    "    print(b)"
   ]
  },
  {
   "cell_type": "code",
   "execution_count": 60,
   "id": "4b559029",
   "metadata": {},
   "outputs": [
    {
     "data": {
      "text/plain": [
       "[10, 2, 3, 4, 50]"
      ]
     },
     "execution_count": 60,
     "metadata": {},
     "output_type": "execute_result"
    }
   ],
   "source": [
    "# Python program to interchange first and last elements in a list\n",
    "my_list = [1, 2, 3, 4, 5]\n",
    "my_list[0] =10\n",
    "my_list[4]= 50\n",
    "my_list"
   ]
  },
  {
   "cell_type": "code",
   "execution_count": 61,
   "id": "622135d5",
   "metadata": {},
   "outputs": [
    {
     "data": {
      "text/plain": [
       "[11, 2, 3, 4, 55]"
      ]
     },
     "execution_count": 61,
     "metadata": {},
     "output_type": "execute_result"
    }
   ],
   "source": [
    "my_list[0],my_list[-1] = 11,55\n",
    "my_list"
   ]
  },
  {
   "cell_type": "code",
   "execution_count": 114,
   "id": "b3b5a971",
   "metadata": {},
   "outputs": [
    {
     "data": {
      "text/plain": [
       "[5, 2, 3, 4, 1]"
      ]
     },
     "execution_count": 114,
     "metadata": {},
     "output_type": "execute_result"
    }
   ],
   "source": [
    "# Swapping first and last items in a list using tuple variable\n",
    "\n",
    "def swap(listt):\n",
    "    \n",
    "    get = listt[-1] , listt[0]\n",
    "    listt[0] ,listt[-1] = get\n",
    "    return listt\n",
    "\n",
    "my_list = [1, 2, 3, 4, 5]\n",
    "swap(my_list)"
   ]
  },
  {
   "cell_type": "code",
   "execution_count": 125,
   "id": "199ca87e",
   "metadata": {},
   "outputs": [
    {
     "data": {
      "text/plain": [
       "[5, 1, 3, 4, 5]"
      ]
     },
     "execution_count": 125,
     "metadata": {},
     "output_type": "execute_result"
    }
   ],
   "source": [
    "my_list = [1, 2, 3, 4, 5]\n",
    "\n",
    "get = my_list[-1],my_list[0]\n",
    "# print(get)\n",
    "my_list[0],my_list[1] = get\n",
    "get = my_list\n",
    "get"
   ]
  },
  {
   "cell_type": "code",
   "execution_count": 75,
   "id": "d47fc65b",
   "metadata": {},
   "outputs": [
    {
     "name": "stdout",
     "output_type": "stream",
     "text": [
      "t sthar\n"
     ]
    }
   ],
   "source": [
    "# 1. Python program to remove characters from a string\n",
    "\n",
    "a = \"tusthar\"\n",
    "\n",
    "rm = \"u\"\n",
    "\n",
    "print(a.replace(rm ,\" \"))"
   ]
  },
  {
   "cell_type": "code",
   "execution_count": 77,
   "id": "f5b61e83",
   "metadata": {},
   "outputs": [
    {
     "name": "stdout",
     "output_type": "stream",
     "text": [
      "Pyth n\n"
     ]
    }
   ],
   "source": [
    "str = \"Python\"\n",
    "ch = \"o\"\n",
    "print(str.replace(ch,\" \")) \n",
    "\n",
    "# >> Pyth n\n"
   ]
  },
  {
   "cell_type": "code",
   "execution_count": 79,
   "id": "ada20675",
   "metadata": {},
   "outputs": [
    {
     "data": {
      "text/plain": [
       "2"
      ]
     },
     "execution_count": 79,
     "metadata": {},
     "output_type": "execute_result"
    }
   ],
   "source": [
    "# 2. Python Program to count occurrence of characters in string\n",
    "\n",
    "a.count(\"t\")"
   ]
  },
  {
   "cell_type": "code",
   "execution_count": 145,
   "id": "ea51ad8a",
   "metadata": {},
   "outputs": [],
   "source": [
    "string = \"Python\"\n",
    "char = \"y\"\n",
    "count = 0\n",
    "for i in range(len(string)):\n",
    "#     print(i)\n",
    "    if(string[i] == char):\n",
    "        count = count + 1\n",
    "# print(count)\n",
    "\n"
   ]
  },
  {
   "cell_type": "code",
   "execution_count": 154,
   "id": "8c5cfecc",
   "metadata": {},
   "outputs": [
    {
     "name": "stdout",
     "output_type": "stream",
     "text": [
      "enter number:4\n",
      "0 1 1 2 "
     ]
    }
   ],
   "source": [
    "# 0 1 1 2 3 \n",
    "# Fibonacci number\n",
    "a = 0\n",
    "b = 1\n",
    "c = 2\n",
    "d = 3\n",
    "e = 4\n",
    "num = int(input(\"enter number:\"))\n",
    "\n",
    "if num == 1:\n",
    "    print(a)\n",
    "elif num == 2:\n",
    "        print(a,b ,end = \" \")    \n",
    "elif num == 3:\n",
    "        print(a,b,b ,end = \" \")\n",
    "elif num == 4:\n",
    "        print(a,b,b,b+b,end = \" \")\n",
    "elif num == 5:\n",
    "        print(a,b,b ,b+b,b+c,end = \" \")"
   ]
  },
  {
   "cell_type": "code",
   "execution_count": 153,
   "id": "fe3d2ff9",
   "metadata": {},
   "outputs": [
    {
     "name": "stdout",
     "output_type": "stream",
     "text": [
      "Enter the number of terms in the sequence: 4\n",
      "0 1 1 2 "
     ]
    }
   ],
   "source": [
    "# Fibonacci number correct way\n",
    "a = 0\n",
    "b = 1\n",
    "n=int(input(\"Enter the number of terms in the sequence: \"))\n",
    "\n",
    "if n == 1:\n",
    "    print(a)\n",
    "elif n == 2:\n",
    "    print(a , b)\n",
    "else:\n",
    "    print(a ,b ,end = \" \")\n",
    "    while n > 2:\n",
    "        c = a + b\n",
    "        a ,b = b ,c\n",
    "        print(c , end = \" \")\n",
    "        n -= 1"
   ]
  },
  {
   "cell_type": "code",
   "execution_count": 103,
   "id": "a23e6ada",
   "metadata": {},
   "outputs": [
    {
     "name": "stdout",
     "output_type": "stream",
     "text": [
      "fdfdfdfd\n"
     ]
    }
   ],
   "source": [
    "# find the largest word\n",
    "test = \"Enter the number fdfdfdfd\"\n",
    "words = test.split()\n",
    "\n",
    "largest_word = words[0]  # Assume the first word is the largest initially\n",
    "\n",
    "for word in words:\n",
    "    if len(word) > len(largest_word):\n",
    "        largest_word = word\n",
    "\n",
    "print(largest_word)\n"
   ]
  },
  {
   "cell_type": "code",
   "execution_count": 113,
   "id": "8d3e2ffa",
   "metadata": {},
   "outputs": [
    {
     "name": "stdout",
     "output_type": "stream",
     "text": [
      "fdfdfdfdl\n"
     ]
    }
   ],
   "source": [
    "test = \"fdfdfdfd Enter the number fdfdfdfdl \"\n",
    "\n",
    "words =test.split()\n",
    "# print(type(words))\n",
    "\n",
    "largest_word = words[0]\n",
    "# print(largest_word)\n",
    "\n",
    "for i in words:\n",
    "    if len(i) > len(largest_word):\n",
    "        largest_word = i\n",
    "\n",
    "print(largest_word)"
   ]
  },
  {
   "cell_type": "code",
   "execution_count": 155,
   "id": "719eec71",
   "metadata": {},
   "outputs": [
    {
     "name": "stdout",
     "output_type": "stream",
     "text": [
      "number\n"
     ]
    }
   ],
   "source": [
    "test = \"Enter the number\"\n",
    "largest_word = max(test.split(), key=len)\n",
    "print(largest_word)\n"
   ]
  },
  {
   "cell_type": "code",
   "execution_count": 190,
   "id": "ec410f33",
   "metadata": {},
   "outputs": [],
   "source": [
    "def custom_isdigit(s):\n",
    "    digits = \"0123456789\"  # Allowed characters\n",
    "    for char in s:\n",
    "        if char not in digits:\n",
    "            return False\n",
    "    return True"
   ]
  },
  {
   "cell_type": "code",
   "execution_count": 193,
   "id": "a287ac2b",
   "metadata": {},
   "outputs": [
    {
     "name": "stdout",
     "output_type": "stream",
     "text": [
      "False\n",
      "False\n",
      "False\n",
      "False\n",
      "False\n",
      "False\n",
      "False\n",
      "False\n",
      "False\n"
     ]
    }
   ],
   "source": [
    "fg = \"fasdaaa5d\"\n",
    "for i in fg:\n",
    "    print(custom_isdigit(fg))"
   ]
  },
  {
   "cell_type": "code",
   "execution_count": 181,
   "id": "821a58ce",
   "metadata": {},
   "outputs": [],
   "source": [
    "fg = \"fasdaaa5d\"\n",
    "summ = []\n",
    "\n",
    "for i in fg:\n",
    "    if checking_no(i) == True:\n",
    "        print(i)\n",
    "#         summ.append(i)\n",
    "# print(summ)\n"
   ]
  },
  {
   "cell_type": "code",
   "execution_count": 32,
   "id": "b2c3bd3e",
   "metadata": {},
   "outputs": [
    {
     "name": "stdout",
     "output_type": "stream",
     "text": [
      "59\n"
     ]
    }
   ],
   "source": [
    "# get the total from the alfanumerical string\n",
    "digits = \"012s455f3gsa456b78h9\"\n",
    "\n",
    "number = []\n",
    "strr = []\n",
    "for i in digits:\n",
    "    try:\n",
    "        df = int(i)\n",
    "        number.append(i)\n",
    "    except:\n",
    "        strr.append(i)\n",
    "    \n",
    "# print(number)\n",
    "# for jss in strr:\n",
    "#     print(jss , end= \"\")   #print only string in a single line\n",
    "\n",
    "total = 0\n",
    "for j in number:\n",
    "    total += int(j)\n",
    "print(total) "
   ]
  },
  {
   "cell_type": "code",
   "execution_count": 34,
   "id": "4da0813a",
   "metadata": {},
   "outputs": [
    {
     "name": "stdout",
     "output_type": "stream",
     "text": [
      "59\n"
     ]
    }
   ],
   "source": [
    "import re\n",
    "digits = \"012s455f3gsa456b78h9\"\n",
    "num = re.findall(r\"\\d\",digits)\n",
    "# print(num)\n",
    "\n",
    "get_totl = 0\n",
    "for s in num:\n",
    "    get_totl += int(s)\n",
    "print(get_totl)"
   ]
  },
  {
   "cell_type": "code",
   "execution_count": 46,
   "id": "5dea2838",
   "metadata": {},
   "outputs": [
    {
     "name": "stdout",
     "output_type": "stream",
     "text": [
      "['0', '1', '2', '4', '5', '5', '3', '4', '5', '6', '7', '8', '9']\n",
      "<class 'int'>\n"
     ]
    }
   ],
   "source": [
    "import re\n",
    "digits = \"012s455f3gsa456b78h9\"\n",
    "num = re.findall(r\"\\d\",digits)\n",
    "print(num)\n",
    "\n",
    "total_sum = sum(map(int,num))\n",
    "print(type(total_sum))\n"
   ]
  },
  {
   "cell_type": "code",
   "execution_count": 47,
   "id": "6fa962fd",
   "metadata": {},
   "outputs": [
    {
     "name": "stdout",
     "output_type": "stream",
     "text": [
      "<map object at 0x7ff0d3a42400>\n"
     ]
    }
   ],
   "source": [
    "ddf = [\"5\"]\n",
    "# print(type(int(ddf[0])))\n",
    "\n",
    "print(map(int ,ddf[0]))"
   ]
  },
  {
   "cell_type": "code",
   "execution_count": 60,
   "id": "23cf1a45",
   "metadata": {},
   "outputs": [
    {
     "data": {
      "text/plain": [
       "59"
      ]
     },
     "execution_count": 60,
     "metadata": {},
     "output_type": "execute_result"
    }
   ],
   "source": [
    "import re\n",
    "digits = \"012s455f3gsa456b78h9\"\n",
    "\n",
    "nudd = re.findall(r\"\\d\" , digits)\n",
    "# print(nudd)\n",
    "\n",
    "# dss = 0\n",
    "# for i in nudd:\n",
    "#     dss += int(i)\n",
    "# print(dss)\n",
    "\n",
    "sum(map(int ,num))"
   ]
  },
  {
   "cell_type": "code",
   "execution_count": 67,
   "id": "ba8fa49a",
   "metadata": {},
   "outputs": [
    {
     "name": "stdout",
     "output_type": "stream",
     "text": [
      "120\n"
     ]
    }
   ],
   "source": [
    "import math\n",
    "\n",
    "n = 5\n",
    "print(math.factorial(n))\n"
   ]
  },
  {
   "cell_type": "code",
   "execution_count": 65,
   "id": "eb372e0b",
   "metadata": {},
   "outputs": [
    {
     "name": "stdout",
     "output_type": "stream",
     "text": [
      "Enter a number: 3\n",
      "Factorial is:  6\n"
     ]
    }
   ],
   "source": [
    "#find the factorial \n",
    "def fact(n):\n",
    "    if(n==1):\n",
    "        return n\n",
    "    else:\n",
    "        return n*(fact(n-1))\n",
    "\n",
    "\n",
    "num = int(input(\"Enter a number: \"))\n",
    "\n",
    "if num<0:\n",
    "    print(\"Negative numbers are not allowed.\")\n",
    "elif num==0:\n",
    "    print(\"Factorial is: 1\")\n",
    "else:\n",
    "    print(\"Factorial is: \",fact(num))"
   ]
  },
  {
   "cell_type": "code",
   "execution_count": 85,
   "id": "4cc127be",
   "metadata": {},
   "outputs": [
    {
     "name": "stdout",
     "output_type": "stream",
     "text": [
      "2\n"
     ]
    }
   ],
   "source": [
    "nn = 2\n",
    "resutl = 1\n",
    "for i in range (1,nn + 1):\n",
    "    resutl *= i\n",
    "print(resutl)"
   ]
  },
  {
   "cell_type": "code",
   "execution_count": 9,
   "id": "4227406a",
   "metadata": {},
   "outputs": [
    {
     "data": {
      "text/plain": [
       "120"
      ]
     },
     "execution_count": 9,
     "metadata": {},
     "output_type": "execute_result"
    }
   ],
   "source": [
    "def factorial(n):\n",
    "    out =1\n",
    "    for i in range(1,n +1):\n",
    "        out *= i\n",
    "    return out\n",
    "\n",
    "factorial(5)"
   ]
  },
  {
   "cell_type": "code",
   "execution_count": 11,
   "id": "31a60df1-4dfc-47bc-9cb2-3e90f610ef2a",
   "metadata": {},
   "outputs": [
    {
     "name": "stdout",
     "output_type": "stream",
     "text": [
      "1\n",
      "2\n",
      "3\n",
      "4\n",
      "5\n"
     ]
    },
    {
     "data": {
      "text/plain": [
       "120"
      ]
     },
     "execution_count": 11,
     "metadata": {},
     "output_type": "execute_result"
    }
   ],
   "source": [
    "for i in range(1,6):\n",
    "    print(i)\n",
    "\n",
    "24*5"
   ]
  },
  {
   "cell_type": "code",
   "execution_count": 105,
   "id": "533f3ab8",
   "metadata": {},
   "outputs": [
    {
     "name": "stdout",
     "output_type": "stream",
     "text": [
      "729\n"
     ]
    },
    {
     "data": {
      "text/plain": [
       "0.0005321502685546875"
      ]
     },
     "execution_count": 105,
     "metadata": {},
     "output_type": "execute_result"
    }
   ],
   "source": [
    "import time\n",
    "\n",
    "begin = time.time()\n",
    "one = []\n",
    "for i in range(1,10):\n",
    "    for j in range(1,10):\n",
    "        for s in range(1,10):\n",
    "            for h in range(1,10):\n",
    "                if i ==1:\n",
    "                    one.append(i)\n",
    "print(len(one))\n",
    "\n",
    "end = time.time()\n",
    "ex_time = end - begin\n",
    "ex_time"
   ]
  },
  {
   "cell_type": "code",
   "execution_count": 111,
   "id": "13fe66f3",
   "metadata": {},
   "outputs": [
    {
     "data": {
      "text/plain": [
       "array([[178, 178, 178, ..., 172, 172, 172],\n",
       "       [178, 178, 178, ..., 172, 172, 172],\n",
       "       [178, 178, 178, ..., 172, 172, 172],\n",
       "       ...,\n",
       "       [128, 128, 128, ..., 115, 115, 115],\n",
       "       [128, 128, 128, ..., 115, 115, 115],\n",
       "       [129, 129, 129, ..., 115, 115, 115]], dtype=uint8)"
      ]
     },
     "execution_count": 111,
     "metadata": {},
     "output_type": "execute_result"
    }
   ],
   "source": [
    "import cv2\n",
    "\n",
    "img = \"/home/link-lap-24/test.jpg\"\n",
    "\n",
    "img = cv2.imread(img,0)\n",
    "img\n",
    "# img.shape\n",
    "()"
   ]
  },
  {
   "cell_type": "code",
   "execution_count": 112,
   "id": "6b03eb58",
   "metadata": {},
   "outputs": [
    {
     "name": "stdout",
     "output_type": "stream",
     "text": [
      "Sorted List: [0, 0, 1, 1, 3, 5, 6, 6, 6, 7, 8, 9, 23, 44, 123]\n"
     ]
    }
   ],
   "source": [
    "# Write a python program using decorator to reorder the sequence of unorder \n",
    "# number in ascending format [8,6,3,6,9,1,0,44,5,23,7,123,6,1,0] (Brute force algorithm).\n",
    "\n",
    "# Decorator function for sorting\n",
    "def sort_decorator(func):\n",
    "    def wrapper(numbers):\n",
    "        sorted_numbers = sorted(numbers)  # Python's built-in sorting method\n",
    "        return func(sorted_numbers)\n",
    "    return wrapper\n",
    "\n",
    "# Function to display sorted list\n",
    "@sort_decorator\n",
    "def display_sorted_list(numbers):\n",
    "    print(\"Sorted List:\", numbers)\n",
    "\n",
    "# Unordered list\n",
    "numbers = [8, 6, 3, 6, 9, 1, 0, 44, 5, 23, 7, 123, 6, 1, 0]\n",
    "\n",
    "# Display the sorted list\n",
    "display_sorted_list(numbers)\n"
   ]
  },
  {
   "cell_type": "code",
   "execution_count": 113,
   "id": "f8b3241b",
   "metadata": {},
   "outputs": [
    {
     "data": {
      "text/plain": [
       "[0, 0, 1, 1, 3, 5, 6, 6, 6, 7, 8, 9, 23, 44, 123]"
      ]
     },
     "execution_count": 113,
     "metadata": {},
     "output_type": "execute_result"
    }
   ],
   "source": [
    "numbers = [8, 6, 3, 6, 9, 1, 0, 44, 5, 23, 7, 123, 6, 1, 0]\n",
    "\n",
    "sorted(numbers)"
   ]
  },
  {
   "cell_type": "code",
   "execution_count": 3,
   "id": "f46603fe",
   "metadata": {},
   "outputs": [
    {
     "ename": "IndentationError",
     "evalue": "expected an indented block (4238447192.py, line 9)",
     "output_type": "error",
     "traceback": [
      "\u001b[0;36m  Input \u001b[0;32mIn [3]\u001b[0;36m\u001b[0m\n\u001b[0;31m    print(i)\u001b[0m\n\u001b[0m            ^\u001b[0m\n\u001b[0;31mIndentationError\u001b[0m\u001b[0;31m:\u001b[0m expected an indented block\n"
     ]
    }
   ],
   "source": [
    "numbers = [8, 6, 3, 6, 9, 1, 0, 44, 5, 23, 7, 123, 6, 1, 0]\n",
    "\n",
    "# for i in numbers:\n",
    "    \n",
    "    \n",
    "for i in range(0,123):\n",
    "    for j in numbers:\n",
    "        if i < j:\n",
    "            print(i)\n",
    "    "
   ]
  },
  {
   "cell_type": "code",
   "execution_count": 42,
   "id": "d805336a",
   "metadata": {},
   "outputs": [
    {
     "name": "stdout",
     "output_type": "stream",
     "text": [
      "Sorted List: [0, 0, 1, 1, 3, 5, 6, 6, 6, 7, 8, 9, 23, 44, 123]\n"
     ]
    }
   ],
   "source": [
    "numbers = [8, 6, 3, 6, 9, 1, 0, 44, 5, 23, 7, 123, 6, 1, 0]\n",
    "\n",
    "# Brute force sorting (Bubble sort logic)\n",
    "for i in range(len(numbers)):\n",
    "    for j in range(i + 1, len(numbers)):\n",
    "#         print(j)\n",
    "        if numbers[i] > numbers[j]:  # Swap if elements are out of order\n",
    "#             print(numbers[i],numbers[j])\n",
    "            numbers[i], numbers[j] = numbers[j], numbers[i]\n",
    "\n",
    "print(\"Sorted List:\", numbers)\n"
   ]
  },
  {
   "cell_type": "code",
   "execution_count": 43,
   "id": "bcebc979",
   "metadata": {},
   "outputs": [
    {
     "name": "stdout",
     "output_type": "stream",
     "text": [
      "Sorted List: [123, 44, 23, 9, 8, 7, 6, 6, 6, 5, 3, 1, 1, 0, 0]\n"
     ]
    }
   ],
   "source": [
    "#for arranging decreasing order\n",
    "numbers = [8, 6, 3, 6, 9, 1, 0, 44, 5, 23, 7, 123, 6, 1, 0]\n",
    "\n",
    "# Brute force sorting (Bubble sort logic)\n",
    "for i in range(len(numbers)):\n",
    "    for j in range(i + 1, len(numbers)):\n",
    "#         print(j)\n",
    "        if numbers[i] < numbers[j]:  # Swap if elements are out of order\n",
    "#             print(numbers[i],numbers[j])\n",
    "            numbers[i], numbers[j] = numbers[j], numbers[i]\n",
    "\n",
    "print(\"Sorted List:\", numbers)"
   ]
  },
  {
   "cell_type": "code",
   "execution_count": 17,
   "id": "f50bed5a",
   "metadata": {},
   "outputs": [
    {
     "name": "stdout",
     "output_type": "stream",
     "text": [
      "[0, 0, 1, 1, 3, 5, 6, 6, 6, 7, 8, 9, 23, 44, 123]\n"
     ]
    }
   ],
   "source": [
    "numbers = [8, 6, 3, 6, 9, 1, 0, 44, 5, 23, 7, 123, 6, 1, 0]\n",
    "\n",
    "for i in range(len(numbers)):\n",
    "    for j in range(i + 1,len(numbers)):\n",
    "        if numbers[i] > numbers[j]:\n",
    "            numbers[i],numbers[j] = numbers[j],numbers[i]\n",
    "print(numbers)\n",
    "            "
   ]
  },
  {
   "cell_type": "code",
   "execution_count": 26,
   "id": "b9008f32",
   "metadata": {},
   "outputs": [],
   "source": [
    "# if 8 > 6:\n",
    "#     print(\"true\")\n",
    "if 6 >  8:\n",
    "    print(\"false\")   "
   ]
  },
  {
   "cell_type": "code",
   "execution_count": 34,
   "id": "ab39b716",
   "metadata": {},
   "outputs": [],
   "source": [
    "# for i in range(0,15):\n",
    "#     for j in range(1,15):\n",
    "#         print(j,i)"
   ]
  },
  {
   "cell_type": "code",
   "execution_count": 47,
   "id": "05a8240a",
   "metadata": {},
   "outputs": [
    {
     "name": "stdout",
     "output_type": "stream",
     "text": [
      "Sorted List: [0, 0, 1, 1, 3, 5, 6, 6, 6, 7, 8, 9, 23, 44, 123]\n"
     ]
    }
   ],
   "source": [
    "# 5. Using Bubble Sort Algorithm\n",
    "numbers = [8, 6, 3, 6, 9, 1, 0, 44, 5, 23, 7, 123, 6, 1, 0]\n",
    "\n",
    "# Bubble Sort Logic\n",
    "n = len(numbers)\n",
    "for i in range(n):\n",
    "    for j in range(0, n-i-1):\n",
    "        if numbers[j] > numbers[j + 1]:\n",
    "            numbers[j], numbers[j + 1] = numbers[j + 1], numbers[j]\n",
    "\n",
    "print(\"Sorted List:\", numbers)\n"
   ]
  },
  {
   "cell_type": "code",
   "execution_count": 40,
   "id": "bf9f3d34",
   "metadata": {},
   "outputs": [
    {
     "data": {
      "text/plain": [
       "[0, 1, 6, 123, 7, 23, 5, 44, 0, 1, 9, 6, 3, 6, 8]"
      ]
     },
     "execution_count": 40,
     "metadata": {},
     "output_type": "execute_result"
    }
   ],
   "source": [
    "numbers = [8, 6, 3, 6, 9, 1, 0, 44, 5, 23, 7, 123, 6, 1, 0]\n",
    "\n",
    "numbers[:: -1]"
   ]
  },
  {
   "cell_type": "code",
   "execution_count": 46,
   "id": "afce57e2",
   "metadata": {},
   "outputs": [
    {
     "data": {
      "text/plain": [
       "'adsad'"
      ]
     },
     "execution_count": 46,
     "metadata": {},
     "output_type": "execute_result"
    }
   ],
   "source": [
    "d = \"dasda\"\n",
    "d[:: -1]"
   ]
  },
  {
   "cell_type": "code",
   "execution_count": 18,
   "id": "8f291f1e-dd19-485b-a742-51a6ff0f2ebe",
   "metadata": {},
   "outputs": [],
   "source": [
    "# Given the list lst = [1, 2, 3, 1, 4, 2, 3, 5, 6, 5], write a Python program to count the occurrences of each element\n",
    "# in the list and print the results.\n"
   ]
  },
  {
   "cell_type": "code",
   "execution_count": 4,
   "id": "1369b3c7-401d-48a3-9e73-c26572c199ce",
   "metadata": {},
   "outputs": [
    {
     "name": "stdout",
     "output_type": "stream",
     "text": [
      "1 2\n",
      "2 2\n",
      "3 2\n",
      "4 1\n",
      "5 3\n",
      "6 1\n"
     ]
    }
   ],
   "source": [
    "lst = [1, 2, 3, 1, 4, 2, 3, 5, 6, 5, 5]\n",
    "\n",
    "for i in set(lst):\n",
    "   df = lst.count(i)\n",
    "   print(f\"{i}\" , df)"
   ]
  },
  {
   "cell_type": "code",
   "execution_count": 16,
   "id": "145cdd1b-883a-44d3-81a0-b579cfb077b0",
   "metadata": {},
   "outputs": [
    {
     "name": "stdout",
     "output_type": "stream",
     "text": [
      "{1: 2, 2: 2, 3: 2, 4: 1, 5: 3, 6: 1}\n"
     ]
    }
   ],
   "source": [
    "#without function\n",
    "lst = [1, 2, 3, 1, 4, 2, 3, 5, 6, 5, 5]\n",
    "\n",
    "dicti = {}\n",
    "\n",
    "for i in lst:\n",
    "    if i in dicti:\n",
    "        dicti[i] += 1\n",
    "    else:\n",
    "        dicti[i] = 1\n",
    "print(dicti)"
   ]
  },
  {
   "cell_type": "code",
   "execution_count": 37,
   "id": "a7638ecc-3b2e-49b0-8059-ae4bf34a3d65",
   "metadata": {},
   "outputs": [
    {
     "name": "stdout",
     "output_type": "stream",
     "text": [
      "1:2\n",
      "2:2\n",
      "3:2\n",
      "4:1\n",
      "5:3\n",
      "6:1\n"
     ]
    }
   ],
   "source": [
    "#without function\n",
    "lst = [1, 2, 3, 1, 4, 2, 3, 5, 6, 5, 5]\n",
    "\n",
    "dicti = {}\n",
    "\n",
    "for i in lst:\n",
    "    if i in dicti:\n",
    "        dicti[i] += 1\n",
    "    else:\n",
    "        dicti[i] = 1\n",
    "\n",
    "for key,value in dicti.items():\n",
    "    print(f\"{key}:{value}\")"
   ]
  },
  {
   "cell_type": "code",
   "execution_count": 17,
   "id": "57407637-ed10-44ef-be7c-e5ab6fa98047",
   "metadata": {},
   "outputs": [
    {
     "data": {
      "text/plain": [
       "{1: 2}"
      ]
     },
     "execution_count": 17,
     "metadata": {},
     "output_type": "execute_result"
    }
   ],
   "source": [
    "dicti = {}\n",
    "dicti[1] = 2\n",
    "dicti"
   ]
  },
  {
   "cell_type": "code",
   "execution_count": null,
   "id": "6063c543-85e7-42df-8414-93b6cf6772b9",
   "metadata": {},
   "outputs": [],
   "source": [
    "# Given the list a = ['my', 'name', 'is', 'omkar'], how can you create a sentence from its elements?"
   ]
  },
  {
   "cell_type": "code",
   "execution_count": 44,
   "id": "f1ee7c5f-7219-4966-a71c-607d383630a6",
   "metadata": {},
   "outputs": [
    {
     "name": "stdout",
     "output_type": "stream",
     "text": [
      "mynameisomkar\n"
     ]
    }
   ],
   "source": [
    "a = ['my', 'name', 'is', 'omkar']\n",
    "nes = a[0] + a[1] + a[2] + a[3]\n",
    "print(nes)\n"
   ]
  },
  {
   "cell_type": "code",
   "execution_count": 29,
   "id": "50c3cc7f-c140-4910-a3f6-a7302c08d6f7",
   "metadata": {},
   "outputs": [
    {
     "name": "stdout",
     "output_type": "stream",
     "text": [
      "my name is omkar "
     ]
    }
   ],
   "source": [
    "a = ['my', 'name', 'is', 'omkar']\n",
    "\n",
    "for i in a:\n",
    "    print(i , end = \" \")"
   ]
  },
  {
   "cell_type": "code",
   "execution_count": 43,
   "id": "7ce5db7b-5c31-4797-b5c9-db129e1ccba1",
   "metadata": {},
   "outputs": [
    {
     "name": "stdout",
     "output_type": "stream",
     "text": [
      "my name is omkar\n"
     ]
    }
   ],
   "source": [
    "a = ['my', 'name', 'is', 'omkar']\n",
    "\n",
    "dr = \" \".join(a)\n",
    "dr\n",
    "print(dr)"
   ]
  },
  {
   "cell_type": "code",
   "execution_count": null,
   "id": "86c32a69-282a-454f-b4fa-6ea1ffbe120d",
   "metadata": {},
   "outputs": [],
   "source": [
    "# Given a list, write a single line of code to select every alternate element, \n",
    "# either starting from the first element or the second element. For example, \n",
    "# if the list is a = [1, 2, 3, 4, 5, 6], how can you select [1, 3, 5] or [2, 4, 6]?"
   ]
  },
  {
   "cell_type": "code",
   "execution_count": 51,
   "id": "20cf0775-5125-4064-bb3e-8521b11cd58f",
   "metadata": {},
   "outputs": [
    {
     "name": "stdout",
     "output_type": "stream",
     "text": [
      "[1, 3, 5]\n",
      "[2, 4, 6]\n"
     ]
    }
   ],
   "source": [
    "a = [1, 2, 3, 4, 5, 6]\n",
    "first = []  #also has it has odd number\n",
    "second = [] #even number\n",
    "\n",
    "for i in a:\n",
    "    if i % 2 == 0:\n",
    "        second.append(i)\n",
    "    else:\n",
    "        first.append(i)\n",
    "print(first)\n",
    "print(second)"
   ]
  },
  {
   "cell_type": "code",
   "execution_count": 82,
   "id": "fab09af8-60ce-4a07-8816-6e783903c98c",
   "metadata": {},
   "outputs": [],
   "source": [
    "#get the total of foot price\n",
    "\n",
    "samples = [\n",
    "    {\"foot\": \"nike\", \"price\": \"4500\"},\n",
    "    {\"vegi\": \"tomoto\", \"price\": \"52\"},\n",
    "    {\"elec\": \"micke\", \"price\": \"4700\"},\n",
    "    {\"home\": \"mixture\", \"price\": \"4900\"},\n",
    "    {\"foot\": \"skechers\", \"price\": \"5300\"}\n",
    "]\n"
   ]
  },
  {
   "cell_type": "code",
   "execution_count": 81,
   "id": "10a6979a-2ed4-4db2-855b-1e2d03d60045",
   "metadata": {},
   "outputs": [
    {
     "name": "stdout",
     "output_type": "stream",
     "text": [
      "9800\n"
     ]
    }
   ],
   "source": [
    "total = 0\n",
    "for i in samples:\n",
    "    if \"foot\" in i:\n",
    "        total += (int(i['price']))\n",
    "print(total)       "
   ]
  },
  {
   "cell_type": "code",
   "execution_count": null,
   "id": "0b2e1ed6-ca87-4eb4-b754-a94dd2f2a32a",
   "metadata": {},
   "outputs": [],
   "source": [
    "{'foot': 'nike', 'price': '4500'}\n",
    "{'foot': 'skechers', 'price': '5300'}"
   ]
  },
  {
   "cell_type": "code",
   "execution_count": null,
   "id": "4f38f2f4-2cc1-4d86-9d97-e3f50e5d1055",
   "metadata": {},
   "outputs": [],
   "source": [
    "# Write a Python program to calculate and print the average scores in Physics and Chemistry for each student\n",
    "# given in the following dictionary: data =\n",
    "# 'Name': ['Tom', 'nick', 'Tom', 'jack', 'nick'],\n",
    "# 'Physics': [20, 30, 80, 50, 40],\n",
    "# 'Chemistry': [40, 70, 60, 50, 80]\n",
    "# }"
   ]
  },
  {
   "cell_type": "code",
   "execution_count": 1,
   "id": "6be7c782-50df-4b08-906b-f57d8addfef5",
   "metadata": {},
   "outputs": [],
   "source": [
    "data ={\n",
    "'Name': ['Tom', 'nick', 'Tom', 'jack', 'nick'],\n",
    "'Physics': [20, 30, 80, 50, 40],\n",
    "'Chemistry': [40, 70, 60, 50, 80]\n",
    "}"
   ]
  },
  {
   "cell_type": "code",
   "execution_count": 2,
   "id": "a6c2433a-ff16-4f57-92cf-cf47b3dd7422",
   "metadata": {},
   "outputs": [
    {
     "data": {
      "text/plain": [
       "{'Name': ['Tom', 'nick', 'Tom', 'jack', 'nick'],\n",
       " 'Physics': [20, 30, 80, 50, 40],\n",
       " 'Chemistry': [40, 70, 60, 50, 80]}"
      ]
     },
     "execution_count": 2,
     "metadata": {},
     "output_type": "execute_result"
    }
   ],
   "source": [
    "data"
   ]
  },
  {
   "cell_type": "code",
   "execution_count": 46,
   "id": "65619ae0-22d5-4930-a051-6ff711dc05d3",
   "metadata": {},
   "outputs": [
    {
     "name": "stdout",
     "output_type": "stream",
     "text": [
      "0\n",
      "1\n",
      "2\n",
      "3\n",
      "4\n"
     ]
    }
   ],
   "source": [
    "score = {}\n",
    "for i in range(len(data[\"Name\"])):\n",
    "    name = data[\"Name\"][i]\n",
    "    p"
   ]
  },
  {
   "cell_type": "code",
   "execution_count": 38,
   "id": "6f09207d-af45-4d73-9b05-b80e80942a7d",
   "metadata": {},
   "outputs": [
    {
     "data": {
      "text/html": [
       "<div>\n",
       "<style scoped>\n",
       "    .dataframe tbody tr th:only-of-type {\n",
       "        vertical-align: middle;\n",
       "    }\n",
       "\n",
       "    .dataframe tbody tr th {\n",
       "        vertical-align: top;\n",
       "    }\n",
       "\n",
       "    .dataframe thead th {\n",
       "        text-align: right;\n",
       "    }\n",
       "</style>\n",
       "<table border=\"1\" class=\"dataframe\">\n",
       "  <thead>\n",
       "    <tr style=\"text-align: right;\">\n",
       "      <th></th>\n",
       "      <th>Physics</th>\n",
       "      <th>Chemistry</th>\n",
       "    </tr>\n",
       "    <tr>\n",
       "      <th>Name</th>\n",
       "      <th></th>\n",
       "      <th></th>\n",
       "    </tr>\n",
       "  </thead>\n",
       "  <tbody>\n",
       "    <tr>\n",
       "      <th>Tom</th>\n",
       "      <td>50.0</td>\n",
       "      <td>50.0</td>\n",
       "    </tr>\n",
       "    <tr>\n",
       "      <th>jack</th>\n",
       "      <td>50.0</td>\n",
       "      <td>50.0</td>\n",
       "    </tr>\n",
       "    <tr>\n",
       "      <th>nick</th>\n",
       "      <td>35.0</td>\n",
       "      <td>75.0</td>\n",
       "    </tr>\n",
       "  </tbody>\n",
       "</table>\n",
       "</div>"
      ],
      "text/plain": [
       "      Physics  Chemistry\n",
       "Name                    \n",
       "Tom      50.0       50.0\n",
       "jack     50.0       50.0\n",
       "nick     35.0       75.0"
      ]
     },
     "execution_count": 38,
     "metadata": {},
     "output_type": "execute_result"
    }
   ],
   "source": [
    "import pandas as pd\n",
    "# 40+70+60+50+80/5\n",
    "df = pd.DataFrame(data)\n",
    "df\n",
    "# df.describe()\n",
    "# df.info()\n",
    "# df[\"Name\"].value_counts()\n",
    "# df[\"Physics\"].sum()\n",
    "df.groupby(\"Name\").mean()"
   ]
  },
  {
   "cell_type": "code",
   "execution_count": 17,
   "id": "078fcf25-170b-467a-b606-a2b86dcf5180",
   "metadata": {},
   "outputs": [
    {
     "data": {
      "text/plain": [
       "20"
      ]
     },
     "execution_count": 17,
     "metadata": {},
     "output_type": "execute_result"
    }
   ],
   "source": [
    "data['Name'][0]\n",
    "data[\"Physics\"][0]"
   ]
  },
  {
   "cell_type": "code",
   "execution_count": 44,
   "id": "48632aef-9c21-4e22-8bd6-0e6a5046e89c",
   "metadata": {},
   "outputs": [
    {
     "name": "stdout",
     "output_type": "stream",
     "text": [
      "Tom -> Physics Avg: 50.0 , Chemistry Avg: 50.0\n",
      "nick -> Physics Avg: 35.0 , Chemistry Avg: 75.0\n",
      "jack -> Physics Avg: 50.0 , Chemistry Avg: 50.0\n"
     ]
    }
   ],
   "source": [
    "data = {\n",
    "    'Name': ['Tom', 'nick', 'Tom', 'jack', 'nick'],\n",
    "    'Physics': [20,    30,     80,    50,     40],\n",
    "    'Chemistry': [40,  70,    60,    50,     80]\n",
    "}\n",
    "\n",
    "scores = {}\n",
    "\n",
    "for i in range(len(data['Name'])):\n",
    "    name, phy, chem = data['Name'][i], data['Physics'][i], data['Chemistry'][i]\n",
    "    \n",
    "    if name in scores:\n",
    "        scores[name][0] += phy\n",
    "        scores[name][1] += chem\n",
    "        scores[name][2] += 1\n",
    "    else:\n",
    "        scores[name] = [phy, chem, 1]\n",
    "\n",
    "for name in scores:\n",
    "    print(name, \"-> Physics Avg:\", round(scores[name][0] / scores[name][2], 2),\n",
    "          \", Chemistry Avg:\", round(scores[name][1] / scores[name][2], 2))\n"
   ]
  },
  {
   "cell_type": "code",
   "execution_count": 43,
   "id": "8fd16678-6eec-4f08-80d5-80f4583dfb8a",
   "metadata": {},
   "outputs": [
    {
     "name": "stdout",
     "output_type": "stream",
     "text": [
      "Tom\n",
      "nick\n",
      "jack\n"
     ]
    }
   ],
   "source": [
    "for jh in sco:\n",
    "    print(jh)"
   ]
  },
  {
   "cell_type": "code",
   "execution_count": 24,
   "id": "ad46c6e5-e125-40bb-9639-8aa2b8d76217",
   "metadata": {},
   "outputs": [
    {
     "name": "stdout",
     "output_type": "stream",
     "text": [
      "Tom phy avg  50.0 Tom chem avg 50.0\n",
      "nick phy avg  35.0 nick chem avg 75.0\n",
      "jack phy avg  50.0 jack chem avg 50.0\n"
     ]
    }
   ],
   "source": [
    "data = {\n",
    "    'Name': ['Tom', 'nick', 'Tom', 'jack', 'nick'],\n",
    "    'Physics': [20, 30, 80, 50, 40],\n",
    "    'Chemistry': [40, 70, 60, 50, 80]\n",
    "}\n",
    "\n",
    "sc = {}\n",
    "for j in range(len(data[\"Name\"])):\n",
    "    name , phy ,chem = data['Name'][j],data['Physics'][j],data['Chemistry'][j]\n",
    "\n",
    "    if name in sc:\n",
    "        sc[name][0] += phy\n",
    "        sc[name][1] += chem\n",
    "        sc[name][2] += 1\n",
    "    else:\n",
    "        sc[name] = [phy,chem,1]\n",
    "sc\n",
    "\n",
    "for jk in sc:\n",
    "    print(jk , \"phy avg \",round(sc[jk][0] / sc[jk][2],2), jk, \"chem avg\" ,sc[jk][1] / sc[jk][2])\n"
   ]
  },
  {
   "cell_type": "code",
   "execution_count": 43,
   "id": "2d110051-811e-4f73-b33c-429b49b518c4",
   "metadata": {},
   "outputs": [
    {
     "name": "stdout",
     "output_type": "stream",
     "text": [
      "[40, 80, 50, 20, 30]\n"
     ]
    }
   ],
   "source": [
    "#find duplicates\n",
    "demo = [20, 30, 80, 50, 40,80]\n",
    "\n",
    "new = []\n",
    "for i in set(demo):\n",
    "    new.append(i)\n",
    "print(new)\n"
   ]
  },
  {
   "cell_type": "code",
   "execution_count": 48,
   "id": "0996ad42-4b2d-4af7-9d49-99dbd7af6af5",
   "metadata": {},
   "outputs": [
    {
     "name": "stdout",
     "output_type": "stream",
     "text": [
      "80 is duplicate in list\n"
     ]
    }
   ],
   "source": [
    "#fing duplicate in the list\n",
    "\n",
    "demo = [20, 30, 80, 50, 40,80]\n",
    "\n",
    "rr = {}\n",
    "for i in demo:\n",
    "    if i in rr:\n",
    "        rr[i] +=1\n",
    "    else:\n",
    "        rr[i] = 1\n",
    "# print(rr)\n",
    "\n",
    "for key,value in rr.items():\n",
    "    if value ==2:\n",
    "        print(f\"{key} is duplicate in list\")"
   ]
  },
  {
   "cell_type": "code",
   "execution_count": 53,
   "id": "40a36e2a-d1f3-43aa-b6ec-1f53bfb5aa6a",
   "metadata": {},
   "outputs": [
    {
     "name": "stdout",
     "output_type": "stream",
     "text": [
      "h: is duplicate in my variable\n"
     ]
    }
   ],
   "source": [
    "#fing duplicate in the string\n",
    "my = \"tusharbh\"\n",
    "\n",
    "hg = {}\n",
    "for i in my:\n",
    "    if i in hg:\n",
    "        hg[i] += 1\n",
    "    else:\n",
    "        hg[i] = 1\n",
    "for key,value in hg.items():\n",
    "    if value == 2:\n",
    "        print(f\"{key}: is duplicate in my variable\")"
   ]
  },
  {
   "cell_type": "code",
   "execution_count": 1,
   "id": "d078b6fa-73f4-44ab-91f7-9ae7e6af49d5",
   "metadata": {},
   "outputs": [
    {
     "ename": "SyntaxError",
     "evalue": "invalid syntax (2031767038.py, line 4)",
     "output_type": "error",
     "traceback": [
      "  \u001b[36mCell\u001b[39m\u001b[36m \u001b[39m\u001b[32mIn[1]\u001b[39m\u001b[32m, line 4\u001b[39m\n\u001b[31m    \u001b[39m\u001b[31mif i in let assume ee one cl;asss and there we have one paramewer fnfsdkf rknj f jndf  n\u001b[39m\n                ^\n\u001b[31mSyntaxError\u001b[39m\u001b[31m:\u001b[39m invalid syntax\n"
     ]
    }
   ],
   "source": [
    "demo = [20, 30, 80, 50, 40,80]\n",
    "\n",
    "for i in demo:\n",
    "    if i in  "
   ]
  },
  {
   "cell_type": "code",
   "execution_count": null,
   "id": "4fe7e96f-05ad-4c86-bbb5-e6a35475008a",
   "metadata": {},
   "outputs": [],
   "source": []
  }
 ],
 "metadata": {
  "kernelspec": {
   "display_name": "Python 3 (ipykernel)",
   "language": "python",
   "name": "python3"
  },
  "language_info": {
   "codemirror_mode": {
    "name": "ipython",
    "version": 3
   },
   "file_extension": ".py",
   "mimetype": "text/x-python",
   "name": "python",
   "nbconvert_exporter": "python",
   "pygments_lexer": "ipython3",
   "version": "3.13.2"
  }
 },
 "nbformat": 4,
 "nbformat_minor": 5
}
