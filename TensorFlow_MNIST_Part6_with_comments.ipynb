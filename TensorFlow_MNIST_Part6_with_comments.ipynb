{
  "cells": [
    {
      "cell_type": "markdown",
      "metadata": {
        "id": "view-in-github",
        "colab_type": "text"
      },
      "source": [
        "<a href=\"https://colab.research.google.com/github/ritikbh193/ritik_bhawsar/blob/main/TensorFlow_MNIST_Part6_with_comments.ipynb\" target=\"_parent\"><img src=\"https://colab.research.google.com/assets/colab-badge.svg\" alt=\"Open In Colab\"/></a>"
      ]
    },
    {
      "cell_type": "markdown",
      "metadata": {
        "id": "qHdQiUXBYqZi"
      },
      "source": [
        "# Deep Neural Network for MNIST Classification\n",
        "\n",
        "We'll apply all the knowledge from the lectures in this section to write a deep neural network. The problem we've chosen is referred to as the \"Hello World\" of deep learning because for most students it is the first deep learning algorithm they see.\n",
        "\n",
        "The dataset is called MNIST and refers to handwritten digit recognition. You can find more about it on Yann LeCun's website (Director of AI Research, Facebook). He is one of the pioneers of what we've been talking about and of more complex approaches that are widely used today, such as covolutional neural networks (CNNs).\n",
        "\n",
        "The dataset provides 70,000 images (28x28 pixels) of handwritten digits (1 digit per image).\n",
        "\n",
        "The goal is to write an algorithm that detects which digit is written. Since there are only 10 digits (0, 1, 2, 3, 4, 5, 6, 7, 8, 9), this is a classification problem with 10 classes.\n",
        "\n",
        "Our goal would be to build a neural network with 2 hidden layers."
      ]
    },
    {
      "cell_type": "markdown",
      "metadata": {
        "id": "evDaloYdYqZl"
      },
      "source": [
        "## Import the relevant packages"
      ]
    },
    {
      "cell_type": "code",
      "execution_count": null,
      "metadata": {
        "id": "am1oVoZEYqZm"
      },
      "outputs": [],
      "source": [
        "import numpy as np\n",
        "import tensorflow as tf\n",
        "\n",
        "# TensorFLow includes a data provider for MNIST that we'll use.\n",
        "# It comes with the tensorflow-datasets module, therefore, if you haven't please install the package using\n",
        "# pip install tensorflow-datasets\n",
        "# or\n",
        "# conda install tensorflow-datasets\n",
        "\n",
        "import tensorflow_datasets as tfds\n",
        "\n",
        "# these datasets will be stored in C:\\Users\\*USERNAME*\\tensorflow_datasets\\...\n",
        "# the first time you download a dataset, it is stored in the respective folder\n",
        "# every other time, it is automatically loading the copy on your computer"
      ]
    },
    {
      "cell_type": "markdown",
      "metadata": {
        "id": "Vza4xYv9YqZo"
      },
      "source": [
        "## Data\n",
        "\n",
        "That's where we load and preprocess our data."
      ]
    },
    {
      "cell_type": "code",
      "execution_count": null,
      "metadata": {
        "colab": {
          "base_uri": "https://localhost:8080/",
          "height": 104,
          "referenced_widgets": [
            "76fa9f432423448fbf99e9e48df78998",
            "2fd38fba29d5426a850cb48b7c3d8457",
            "b6b3293882af450996cdd36dc206c09b",
            "5b68f6ea8bb446d682ed38e2d9d1d108",
            "1d9a45592f0445db915f3adaaa9b3da4",
            "aeda036fe6444b519550cb850e53af09",
            "022fdcab7bfe48eab894aac12bbc3d0d",
            "e1217c1f8c354b14b0ea7b941cd7424d",
            "bf80066b8f1546f9a4bb4dde49f5ad60",
            "5254bab9240a49f2af9a198ea1123230",
            "bbae09d440924d98b5fcdcb25b5d41e4"
          ]
        },
        "id": "FdYh9328YqZo",
        "outputId": "6644c983-f917-4935-f0e4-14a3e4ba0c31"
      },
      "outputs": [
        {
          "output_type": "stream",
          "name": "stdout",
          "text": [
            "Downloading and preparing dataset 11.06 MiB (download: 11.06 MiB, generated: 21.00 MiB, total: 32.06 MiB) to /root/tensorflow_datasets/mnist/3.0.1...\n"
          ]
        },
        {
          "output_type": "display_data",
          "data": {
            "text/plain": [
              "Dl Completed...:   0%|          | 0/5 [00:00<?, ? file/s]"
            ],
            "application/vnd.jupyter.widget-view+json": {
              "version_major": 2,
              "version_minor": 0,
              "model_id": "76fa9f432423448fbf99e9e48df78998"
            }
          },
          "metadata": {}
        },
        {
          "output_type": "stream",
          "name": "stdout",
          "text": [
            "Dataset mnist downloaded and prepared to /root/tensorflow_datasets/mnist/3.0.1. Subsequent calls will reuse this data.\n"
          ]
        }
      ],
      "source": [
        "#@title Default title text\n",
        "# remember the comment from above\n",
        "# these datasets will be stored in C:\\Users\\*USERNAME*\\tensorflow_datasets\\...\n",
        "# the first time you download a dataset, it is stored in the respective folder\n",
        "# every other time, it is automatically loading the copy on your computer\n",
        "\n",
        "# tfds.load actually loads a dataset (or downloads and then loads if that's the first time you use it)\n",
        "# in our case, we are interesteed in the MNIST; the name of the dataset is the only mandatory argument\n",
        "# there are other arguments we can specify, which we can find useful\n",
        "# mnist_dataset = tfds.load(name='mnist', as_supervised=True)\n",
        "mnist_dataset, mnist_info = tfds.load(name='mnist', with_info=True, as_supervised=True)\n",
        "# with_info=True will also provide us with a tuple containing information about the version, features, number of samples\n",
        "# we will use this information a bit below and we will store it in mnist_info\n",
        "\n",
        "# as_supervised=True will load the dataset in a 2-tuple structure (input, target)\n",
        "# alternatively, as_supervised=False, would return a dictionary\n",
        "# obviously we prefer to have our inputs and targets separated\n",
        "\n",
        "# once we have loaded the dataset, we can easily extract the training and testing dataset with the built references\n",
        "mnist_train, mnist_test = mnist_dataset['train'], mnist_dataset['test']\n",
        "\n",
        "# by default, TF has training and testing datasets, but no validation sets\n",
        "# thus we must split it on our own\n",
        "\n",
        "# we start by defining the number of validation samples as a % of the train samples\n",
        "# this is also where we make use of mnist_info (we don't have to count the observations)\n",
        "num_validation_samples = 0.1 * mnist_info.splits['train'].num_examples\n",
        "# let's cast this number to an integer, as a float may cause an error along the way\n",
        "num_validation_samples = tf.cast(num_validation_samples, tf.int64)\n",
        "\n",
        "# let's also store the number of test samples in a dedicated variable (instead of using the mnist_info one)\n",
        "num_test_samples = mnist_info.splits['test'].num_examples\n",
        "# once more, we'd prefer an integer (rather than the default float)\n",
        "num_test_samples = tf.cast(num_test_samples, tf.int64)\n",
        "\n",
        "\n"
      ]
    },
    {
      "cell_type": "code",
      "source": [
        "num_validation_samples\n",
        "mnist_test"
      ],
      "metadata": {
        "colab": {
          "base_uri": "https://localhost:8080/"
        },
        "id": "DjQMvrxXeaPa",
        "outputId": "2cb18603-656b-4c0e-b6ac-a1e43b72423c"
      },
      "execution_count": null,
      "outputs": [
        {
          "output_type": "execute_result",
          "data": {
            "text/plain": [
              "<_PrefetchDataset element_spec=(TensorSpec(shape=(28, 28, 1), dtype=tf.uint8, name=None), TensorSpec(shape=(), dtype=tf.int64, name=None))>"
            ]
          },
          "metadata": {},
          "execution_count": 18
        }
      ]
    },
    {
      "cell_type": "code",
      "source": [
        "\n",
        "# normally, we would like to scale our data in some way to make the result more numerically stable\n",
        "# in this case we will simply prefer to have inputs between 0 and 1\n",
        "# let's define a function called: scale, that will take an MNIST image and its label\n",
        "def scale(image, label):\n",
        "    # we make sure the value is a float\n",
        "    image = tf.cast(image, tf.float32)\n",
        "    # since the possible values for the inputs are 0 to 255 (256 different shades of grey)\n",
        "    # if we divide each element by 255, we would get the desired result -> all elements will be between 0 and 1\n",
        "    image /= 255.\n",
        "\n",
        "    return image, label\n",
        "\n",
        "\n",
        "# the method .map() allows us to apply a custom transformation to a given dataset\n",
        "# we have already decided that we will get the validation data from mnist_train, so\n",
        "scaled_train_and_validation_data = mnist_train.map(scale)\n",
        "\n",
        "# finally, we scale and batch the test data\n",
        "# we scale it so it has the same magnitude as the train and validation\n",
        "# there is no need to shuffle it, because we won't be training on the test data\n",
        "# there would be a single batch, equal to the size of the test data\n",
        "test_data = mnist_test.map(scale)\n",
        "\n",
        "\n",
        "# let's also shuffle the data\n",
        "\n",
        "BUFFER_SIZE = 10000\n",
        "# this BUFFER_SIZE parameter is here for cases when we're dealing with enormous datasets\n",
        "# then we can't shuffle the whole dataset in one go because we can't fit it all in memory\n",
        "# so instead TF only stores BUFFER_SIZE samples in memory at a time and shuffles them\n",
        "# if BUFFER_SIZE=1 => no shuffling will actually happen\n",
        "# if BUFFER_SIZE >= num samples => shuffling is uniform\n",
        "# BUFFER_SIZE in between - a computational optimization to approximate uniform shuffling\n",
        "\n",
        "# luckily for us, there is a shuffle method readily available and we just need to specify the buffer size\n",
        "shuffled_train_and_validation_data = scaled_train_and_validation_data.shuffle(BUFFER_SIZE)\n",
        "\n",
        "# once we have scaled and shuffled the data, we can proceed to actually extracting the train and validation\n",
        "# our validation data would be equal to 10% of the training set, which we've already calculated\n",
        "# we use the .take() method to take that many samples\n",
        "# finally, we create a batch with a batch size equal to the total number of validation samples\n",
        "validation_data = shuffled_train_and_validation_data.take(num_validation_samples)\n",
        "\n",
        "# similarly, the train_data is everything else, so we skip as many samples as there are in the validation dataset\n",
        "train_data = shuffled_train_and_validation_data.skip(num_validation_samples)\n",
        "\n",
        "# determine the batch size\n",
        "BATCH_SIZE = 100\n",
        "\n",
        "# we can also take advantage of the occasion to batch the train data\n",
        "# this would be very helpful when we train, as we would be able to iterate over the different batches\n",
        "train_data = train_data.batch(BATCH_SIZE)\n",
        "\n",
        "validation_data = validation_data.batch(num_validation_samples)\n",
        "\n",
        "# batch the test data\n",
        "test_data = test_data.batch(num_test_samples)\n",
        "\n",
        "\n",
        "# takes next batch (it is the only batch)\n",
        "# because as_supervized=True, we've got a 2-tuple structure\n",
        "validation_inputs, validation_targets = next(iter(validation_data))"
      ],
      "metadata": {
        "colab": {
          "base_uri": "https://localhost:8080/"
        },
        "id": "DpUojHwxbPGe",
        "outputId": "bfe5e7dd-5d98-4a9b-ea2e-2dbc217a1702"
      },
      "execution_count": null,
      "outputs": [
        {
          "output_type": "execute_result",
          "data": {
            "text/plain": [
              "<tf.Tensor: shape=(), dtype=int64, numpy=6000>"
            ]
          },
          "metadata": {},
          "execution_count": 9
        }
      ]
    },
    {
      "cell_type": "code",
      "source": [
        "validation_targets.shape"
      ],
      "metadata": {
        "colab": {
          "base_uri": "https://localhost:8080/"
        },
        "id": "d1AyteIXeSrt",
        "outputId": "3e714a21-3e90-4d37-e9c5-71a6491547f3"
      },
      "execution_count": null,
      "outputs": [
        {
          "output_type": "execute_result",
          "data": {
            "text/plain": [
              "TensorShape([6000])"
            ]
          },
          "metadata": {},
          "execution_count": 23
        }
      ]
    },
    {
      "cell_type": "markdown",
      "metadata": {
        "id": "xVIgZlJPYqZr"
      },
      "source": [
        "## Model"
      ]
    },
    {
      "cell_type": "code",
      "source": [],
      "metadata": {
        "id": "Dx4OA8T1kJ_B"
      },
      "execution_count": null,
      "outputs": []
    },
    {
      "cell_type": "code",
      "source": [],
      "metadata": {
        "id": "f3_8utIfkKkI"
      },
      "execution_count": null,
      "outputs": []
    },
    {
      "cell_type": "code",
      "source": [],
      "metadata": {
        "id": "mINGuzdmkKno"
      },
      "execution_count": null,
      "outputs": []
    },
    {
      "cell_type": "code",
      "source": [],
      "metadata": {
        "id": "Qvnrg2w6kKpV"
      },
      "execution_count": null,
      "outputs": []
    },
    {
      "cell_type": "markdown",
      "metadata": {
        "id": "ceGWalq-YqZs"
      },
      "source": [
        "### Outline the model\n",
        "When thinking about a deep learning algorithm, we mostly imagine building the model. So, let's do it :)"
      ]
    },
    {
      "cell_type": "code",
      "execution_count": null,
      "metadata": {
        "id": "Y8fE1ecBYqZt"
      },
      "outputs": [],
      "source": [
        "input_size = 784\n",
        "output_size = 10\n",
        "# Use same hidden layer size for both hidden layers. Not a necessity.\n",
        "hidden_layer_size = 50\n",
        "\n",
        "# define how the model will look like\n",
        "model = tf.keras.Sequential([\n",
        "\n",
        "    # the first layer (the input layer)\n",
        "    # each observation is 28x28x1 pixels, therefore it is a tensor of rank 3\n",
        "    # since we don't know CNNs yet, we don't know how to feed such input into our net, so we must flatten the images\n",
        "    # there is a convenient method 'Flatten' that simply takes our 28x28x1 tensor and orders it into a (None,)\n",
        "    # or (28x28x1,) = (784,) vector\n",
        "    # this allows us to actually create a feed forward neural network\n",
        "    tf.keras.layers.Flatten(input_shape=(28, 28, 1)), # input layer\n",
        "\n",
        "    # tf.keras.layers.Dense is basically implementing: output = activation(dot(input, weight) + bias)\n",
        "    # it takes several arguments, but the most important ones for us are the hidden_layer_size and the activation function\n",
        "    tf.keras.layers.Dense(hidden_layer_size, activation='relu'), # 1st hidden layer\n",
        "    tf.keras.layers.Dense(hidden_layer_size, activation='relu'), # 2nd hidden layer\n",
        "\n",
        "    # the final layer is no different, we just make sure to activate it with softmax\n",
        "    tf.keras.layers.Dense(output_size, activation='softmax') # output layer\n",
        "])"
      ]
    },
    {
      "cell_type": "markdown",
      "metadata": {
        "id": "93dGke1tYqZu"
      },
      "source": [
        "### Choose the optimizer and the loss function"
      ]
    },
    {
      "cell_type": "code",
      "source": [
        "import numpy as np\n",
        "from tensorflow.keras.models import Sequential\n",
        "from tensorflow.keras.layers import Dense\n",
        "\n",
        "# Define the input and output data\n",
        "x1 = np.array([1, 2, 3, 4, 5, 6, 7, 8, 9, 10])\n",
        "y1 = np.array([4, 8, 12, 16, 20, 24, 28, 32, 36, 40])\n",
        "\n",
        "# Create the ANN model\n",
        "model = Sequential()\n",
        "model.add(Dense(1, input_shape=(1,)))\n",
        "\n",
        "# Compile the model\n",
        "model.compile(optimizer='adam', loss='mean_squared_error')\n",
        "\n",
        "# Train the model\n",
        "model.fit(x1, y1, epochs=1000, verbose=0)\n",
        "\n",
        "# Predict values\n",
        "x_test = np.array([11, 12, 13, 14, 15])\n",
        "y_pred = model.predict(x_test)\n",
        "\n",
        "# Print the predicted values\n",
        "print(y_pred.flatten())\n"
      ],
      "metadata": {
        "id": "yyvd9WfnzEdx",
        "colab": {
          "base_uri": "https://localhost:8080/"
        },
        "outputId": "e20f63ab-d272-4647-f662-897ee68a98c8"
      },
      "execution_count": null,
      "outputs": [
        {
          "output_type": "stream",
          "name": "stdout",
          "text": [
            "1/1 [==============================] - 0s 153ms/step\n",
            "[19.63521  21.337095 23.038979 24.740864 26.442747]\n"
          ]
        }
      ]
    },
    {
      "cell_type": "code",
      "execution_count": null,
      "metadata": {
        "id": "38LJuAzIYqZv"
      },
      "outputs": [],
      "source": [
        "# we define the optimizer we'd like to use,\n",
        "# the loss function,\n",
        "# and the metrics we are interested in obtaining at each iteration\n",
        "model.compile(optimizer='adam', loss='sparse_categorical_crossentropy', metrics=['accuracy'])"
      ]
    },
    {
      "cell_type": "markdown",
      "metadata": {
        "id": "QnHCz4hKYqZw"
      },
      "source": [
        "### Training\n",
        "That's where we train the model we have built."
      ]
    },
    {
      "cell_type": "code",
      "execution_count": null,
      "metadata": {
        "id": "eKp2ROt1YqZw",
        "outputId": "9c85d5d5-95cd-44f1-d2ed-82126c03c2f4"
      },
      "outputs": [
        {
          "name": "stdout",
          "output_type": "stream",
          "text": [
            "Epoch 1/5\n",
            "540/540 - 6s - loss: 0.3206 - accuracy: 0.9105 - val_loss: 0.0000e+00 - val_accuracy: 0.0000e+00\n",
            "Epoch 2/5\n",
            "540/540 - 5s - loss: 0.1344 - accuracy: 0.9604 - val_loss: 0.1131 - val_accuracy: 0.9680\n",
            "Epoch 3/5\n",
            "540/540 - 5s - loss: 0.0969 - accuracy: 0.9710 - val_loss: 0.0972 - val_accuracy: 0.9745\n",
            "Epoch 4/5\n",
            "540/540 - 5s - loss: 0.0752 - accuracy: 0.9776 - val_loss: 0.0841 - val_accuracy: 0.9745\n",
            "Epoch 5/5\n",
            "540/540 - 5s - loss: 0.0609 - accuracy: 0.9812 - val_loss: 0.0681 - val_accuracy: 0.9790\n"
          ]
        },
        {
          "data": {
            "text/plain": [
              "<tensorflow.python.keras.callbacks.History at 0x229f22494a8>"
            ]
          },
          "execution_count": 8,
          "metadata": {},
          "output_type": "execute_result"
        }
      ],
      "source": [
        "#@title Default title text\n",
        "# determine the maximum number of epochs\n",
        "NUM_EPOCHS = 5\n",
        "\n",
        "# we fit the model, specifying the\n",
        "# training data\n",
        "# the total number of epochs\n",
        "# and the validation data we just created ourselves in the format: (inputs,targets)\n",
        "model.fit(train_data, epochs=NUM_EPOCHS, validation_data=(validation_inputs, validation_targets), verbose =2)"
      ]
    }
  ],
  "metadata": {
    "kernelspec": {
      "display_name": "Python [conda env:py3-TF2.0]",
      "language": "python",
      "name": "conda-env-py3-TF2.0-py"
    },
    "language_info": {
      "codemirror_mode": {
        "name": "ipython",
        "version": 3
      },
      "file_extension": ".py",
      "mimetype": "text/x-python",
      "name": "python",
      "nbconvert_exporter": "python",
      "pygments_lexer": "ipython3",
      "version": "3.7.3"
    },
    "colab": {
      "provenance": [],
      "include_colab_link": true
    },
    "widgets": {
      "application/vnd.jupyter.widget-state+json": {
        "76fa9f432423448fbf99e9e48df78998": {
          "model_module": "@jupyter-widgets/controls",
          "model_name": "HBoxModel",
          "model_module_version": "1.5.0",
          "state": {
            "_dom_classes": [],
            "_model_module": "@jupyter-widgets/controls",
            "_model_module_version": "1.5.0",
            "_model_name": "HBoxModel",
            "_view_count": null,
            "_view_module": "@jupyter-widgets/controls",
            "_view_module_version": "1.5.0",
            "_view_name": "HBoxView",
            "box_style": "",
            "children": [
              "IPY_MODEL_2fd38fba29d5426a850cb48b7c3d8457",
              "IPY_MODEL_b6b3293882af450996cdd36dc206c09b",
              "IPY_MODEL_5b68f6ea8bb446d682ed38e2d9d1d108"
            ],
            "layout": "IPY_MODEL_1d9a45592f0445db915f3adaaa9b3da4"
          }
        },
        "2fd38fba29d5426a850cb48b7c3d8457": {
          "model_module": "@jupyter-widgets/controls",
          "model_name": "HTMLModel",
          "model_module_version": "1.5.0",
          "state": {
            "_dom_classes": [],
            "_model_module": "@jupyter-widgets/controls",
            "_model_module_version": "1.5.0",
            "_model_name": "HTMLModel",
            "_view_count": null,
            "_view_module": "@jupyter-widgets/controls",
            "_view_module_version": "1.5.0",
            "_view_name": "HTMLView",
            "description": "",
            "description_tooltip": null,
            "layout": "IPY_MODEL_aeda036fe6444b519550cb850e53af09",
            "placeholder": "​",
            "style": "IPY_MODEL_022fdcab7bfe48eab894aac12bbc3d0d",
            "value": "Dl Completed...: 100%"
          }
        },
        "b6b3293882af450996cdd36dc206c09b": {
          "model_module": "@jupyter-widgets/controls",
          "model_name": "FloatProgressModel",
          "model_module_version": "1.5.0",
          "state": {
            "_dom_classes": [],
            "_model_module": "@jupyter-widgets/controls",
            "_model_module_version": "1.5.0",
            "_model_name": "FloatProgressModel",
            "_view_count": null,
            "_view_module": "@jupyter-widgets/controls",
            "_view_module_version": "1.5.0",
            "_view_name": "ProgressView",
            "bar_style": "success",
            "description": "",
            "description_tooltip": null,
            "layout": "IPY_MODEL_e1217c1f8c354b14b0ea7b941cd7424d",
            "max": 5,
            "min": 0,
            "orientation": "horizontal",
            "style": "IPY_MODEL_bf80066b8f1546f9a4bb4dde49f5ad60",
            "value": 5
          }
        },
        "5b68f6ea8bb446d682ed38e2d9d1d108": {
          "model_module": "@jupyter-widgets/controls",
          "model_name": "HTMLModel",
          "model_module_version": "1.5.0",
          "state": {
            "_dom_classes": [],
            "_model_module": "@jupyter-widgets/controls",
            "_model_module_version": "1.5.0",
            "_model_name": "HTMLModel",
            "_view_count": null,
            "_view_module": "@jupyter-widgets/controls",
            "_view_module_version": "1.5.0",
            "_view_name": "HTMLView",
            "description": "",
            "description_tooltip": null,
            "layout": "IPY_MODEL_5254bab9240a49f2af9a198ea1123230",
            "placeholder": "​",
            "style": "IPY_MODEL_bbae09d440924d98b5fcdcb25b5d41e4",
            "value": " 5/5 [00:00&lt;00:00,  6.95 file/s]"
          }
        },
        "1d9a45592f0445db915f3adaaa9b3da4": {
          "model_module": "@jupyter-widgets/base",
          "model_name": "LayoutModel",
          "model_module_version": "1.2.0",
          "state": {
            "_model_module": "@jupyter-widgets/base",
            "_model_module_version": "1.2.0",
            "_model_name": "LayoutModel",
            "_view_count": null,
            "_view_module": "@jupyter-widgets/base",
            "_view_module_version": "1.2.0",
            "_view_name": "LayoutView",
            "align_content": null,
            "align_items": null,
            "align_self": null,
            "border": null,
            "bottom": null,
            "display": null,
            "flex": null,
            "flex_flow": null,
            "grid_area": null,
            "grid_auto_columns": null,
            "grid_auto_flow": null,
            "grid_auto_rows": null,
            "grid_column": null,
            "grid_gap": null,
            "grid_row": null,
            "grid_template_areas": null,
            "grid_template_columns": null,
            "grid_template_rows": null,
            "height": null,
            "justify_content": null,
            "justify_items": null,
            "left": null,
            "margin": null,
            "max_height": null,
            "max_width": null,
            "min_height": null,
            "min_width": null,
            "object_fit": null,
            "object_position": null,
            "order": null,
            "overflow": null,
            "overflow_x": null,
            "overflow_y": null,
            "padding": null,
            "right": null,
            "top": null,
            "visibility": null,
            "width": null
          }
        },
        "aeda036fe6444b519550cb850e53af09": {
          "model_module": "@jupyter-widgets/base",
          "model_name": "LayoutModel",
          "model_module_version": "1.2.0",
          "state": {
            "_model_module": "@jupyter-widgets/base",
            "_model_module_version": "1.2.0",
            "_model_name": "LayoutModel",
            "_view_count": null,
            "_view_module": "@jupyter-widgets/base",
            "_view_module_version": "1.2.0",
            "_view_name": "LayoutView",
            "align_content": null,
            "align_items": null,
            "align_self": null,
            "border": null,
            "bottom": null,
            "display": null,
            "flex": null,
            "flex_flow": null,
            "grid_area": null,
            "grid_auto_columns": null,
            "grid_auto_flow": null,
            "grid_auto_rows": null,
            "grid_column": null,
            "grid_gap": null,
            "grid_row": null,
            "grid_template_areas": null,
            "grid_template_columns": null,
            "grid_template_rows": null,
            "height": null,
            "justify_content": null,
            "justify_items": null,
            "left": null,
            "margin": null,
            "max_height": null,
            "max_width": null,
            "min_height": null,
            "min_width": null,
            "object_fit": null,
            "object_position": null,
            "order": null,
            "overflow": null,
            "overflow_x": null,
            "overflow_y": null,
            "padding": null,
            "right": null,
            "top": null,
            "visibility": null,
            "width": null
          }
        },
        "022fdcab7bfe48eab894aac12bbc3d0d": {
          "model_module": "@jupyter-widgets/controls",
          "model_name": "DescriptionStyleModel",
          "model_module_version": "1.5.0",
          "state": {
            "_model_module": "@jupyter-widgets/controls",
            "_model_module_version": "1.5.0",
            "_model_name": "DescriptionStyleModel",
            "_view_count": null,
            "_view_module": "@jupyter-widgets/base",
            "_view_module_version": "1.2.0",
            "_view_name": "StyleView",
            "description_width": ""
          }
        },
        "e1217c1f8c354b14b0ea7b941cd7424d": {
          "model_module": "@jupyter-widgets/base",
          "model_name": "LayoutModel",
          "model_module_version": "1.2.0",
          "state": {
            "_model_module": "@jupyter-widgets/base",
            "_model_module_version": "1.2.0",
            "_model_name": "LayoutModel",
            "_view_count": null,
            "_view_module": "@jupyter-widgets/base",
            "_view_module_version": "1.2.0",
            "_view_name": "LayoutView",
            "align_content": null,
            "align_items": null,
            "align_self": null,
            "border": null,
            "bottom": null,
            "display": null,
            "flex": null,
            "flex_flow": null,
            "grid_area": null,
            "grid_auto_columns": null,
            "grid_auto_flow": null,
            "grid_auto_rows": null,
            "grid_column": null,
            "grid_gap": null,
            "grid_row": null,
            "grid_template_areas": null,
            "grid_template_columns": null,
            "grid_template_rows": null,
            "height": null,
            "justify_content": null,
            "justify_items": null,
            "left": null,
            "margin": null,
            "max_height": null,
            "max_width": null,
            "min_height": null,
            "min_width": null,
            "object_fit": null,
            "object_position": null,
            "order": null,
            "overflow": null,
            "overflow_x": null,
            "overflow_y": null,
            "padding": null,
            "right": null,
            "top": null,
            "visibility": null,
            "width": null
          }
        },
        "bf80066b8f1546f9a4bb4dde49f5ad60": {
          "model_module": "@jupyter-widgets/controls",
          "model_name": "ProgressStyleModel",
          "model_module_version": "1.5.0",
          "state": {
            "_model_module": "@jupyter-widgets/controls",
            "_model_module_version": "1.5.0",
            "_model_name": "ProgressStyleModel",
            "_view_count": null,
            "_view_module": "@jupyter-widgets/base",
            "_view_module_version": "1.2.0",
            "_view_name": "StyleView",
            "bar_color": null,
            "description_width": ""
          }
        },
        "5254bab9240a49f2af9a198ea1123230": {
          "model_module": "@jupyter-widgets/base",
          "model_name": "LayoutModel",
          "model_module_version": "1.2.0",
          "state": {
            "_model_module": "@jupyter-widgets/base",
            "_model_module_version": "1.2.0",
            "_model_name": "LayoutModel",
            "_view_count": null,
            "_view_module": "@jupyter-widgets/base",
            "_view_module_version": "1.2.0",
            "_view_name": "LayoutView",
            "align_content": null,
            "align_items": null,
            "align_self": null,
            "border": null,
            "bottom": null,
            "display": null,
            "flex": null,
            "flex_flow": null,
            "grid_area": null,
            "grid_auto_columns": null,
            "grid_auto_flow": null,
            "grid_auto_rows": null,
            "grid_column": null,
            "grid_gap": null,
            "grid_row": null,
            "grid_template_areas": null,
            "grid_template_columns": null,
            "grid_template_rows": null,
            "height": null,
            "justify_content": null,
            "justify_items": null,
            "left": null,
            "margin": null,
            "max_height": null,
            "max_width": null,
            "min_height": null,
            "min_width": null,
            "object_fit": null,
            "object_position": null,
            "order": null,
            "overflow": null,
            "overflow_x": null,
            "overflow_y": null,
            "padding": null,
            "right": null,
            "top": null,
            "visibility": null,
            "width": null
          }
        },
        "bbae09d440924d98b5fcdcb25b5d41e4": {
          "model_module": "@jupyter-widgets/controls",
          "model_name": "DescriptionStyleModel",
          "model_module_version": "1.5.0",
          "state": {
            "_model_module": "@jupyter-widgets/controls",
            "_model_module_version": "1.5.0",
            "_model_name": "DescriptionStyleModel",
            "_view_count": null,
            "_view_module": "@jupyter-widgets/base",
            "_view_module_version": "1.2.0",
            "_view_name": "StyleView",
            "description_width": ""
          }
        }
      }
    }
  },
  "nbformat": 4,
  "nbformat_minor": 0
}